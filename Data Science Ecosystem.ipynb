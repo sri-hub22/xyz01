{
 "cells": [
  {
   "cell_type": "markdown",
   "id": "cdbc5d7e-92ee-4676-a355-c52166cd27bc",
   "metadata": {},
   "source": [
    "# Data Science Tools and Ecosystem"
   ]
  },
  {
   "cell_type": "markdown",
   "id": "de442ffe-8a00-4ea6-8caf-9e64eb96a1a5",
   "metadata": {},
   "source": [
    "In this notebook, data science tools and ecosystems are summarized"
   ]
  },
  {
   "cell_type": "markdown",
   "id": "586156c6-08e1-4b4b-90be-e3dbf3c1637b",
   "metadata": {},
   "source": [
    "Some of the popular languages that data scientists use are:"
   ]
  },
  {
   "cell_type": "markdown",
   "id": "5962d65d-9241-4221-a361-c70d107f421b",
   "metadata": {},
   "source": [
    "1. Python\n",
    "2. R\n",
    "3. Java"
   ]
  },
  {
   "cell_type": "markdown",
   "id": "8d0de7db-c8dc-4d9d-bffa-dc4c8e3b76c6",
   "metadata": {},
   "source": [
    "Some of the commonly used libraries by data scientists include:"
   ]
  },
  {
   "cell_type": "markdown",
   "id": "c790e4cf-6522-4332-a275-3c863a2c6f56",
   "metadata": {},
   "source": [
    "1. Numpy\n",
    "2. Pandas\n",
    "3. Matplotlib"
   ]
  },
  {
   "cell_type": "markdown",
   "id": "7d292d90-35c5-4c18-b8d2-7efad3820d86",
   "metadata": {},
   "source": [
    "|Data Science Tools|\n",
    "|------------------|\n",
    "|Anaconda|\n",
    "|Jupyter notebook|\n",
    "|Rstudio|"
   ]
  },
  {
   "cell_type": "markdown",
   "id": "98131fdd-b133-4348-a110-59d4d684ef46",
   "metadata": {},
   "source": [
    "### Below are a few examples of evaluating arithmetic expressions in Python"
   ]
  },
  {
   "cell_type": "code",
   "execution_count": 27,
   "id": "b18d41df-887c-41f2-9c2e-715026620f6c",
   "metadata": {},
   "outputs": [],
   "source": [
    "#  This a simple arithmetic expression to mutiply then add integers."
   ]
  },
  {
   "cell_type": "code",
   "execution_count": 29,
   "id": "cf87b0e8-3356-430c-818c-e37fd64bbb85",
   "metadata": {},
   "outputs": [
    {
     "data": {
      "text/plain": [
       "17"
      ]
     },
     "execution_count": 29,
     "metadata": {},
     "output_type": "execute_result"
    }
   ],
   "source": [
    "(3*4)+5"
   ]
  },
  {
   "cell_type": "code",
   "execution_count": 31,
   "id": "3e070fe3-f442-4a49-a52d-fbf36a8408d9",
   "metadata": {},
   "outputs": [],
   "source": [
    "#  This will convert 200 minutes to hours by diving by 60."
   ]
  },
  {
   "cell_type": "code",
   "execution_count": 33,
   "id": "c62e895e-afaa-48ac-952c-10c7f4b1a24e",
   "metadata": {},
   "outputs": [
    {
     "data": {
      "text/plain": [
       "3.3333333333333335"
      ]
     },
     "execution_count": 33,
     "metadata": {},
     "output_type": "execute_result"
    }
   ],
   "source": [
    "200/60"
   ]
  },
  {
   "cell_type": "markdown",
   "id": "2fd557c7-f875-461b-8c8d-a652ebbfd692",
   "metadata": {},
   "source": [
    "**Objectives:**"
   ]
  },
  {
   "cell_type": "markdown",
   "id": "e0d3128e-5788-461c-8ff7-35c012ca88b4",
   "metadata": {},
   "source": [
    "* Python\n",
    "* Java\n",
    "* R\n",
    "* Scala"
   ]
  },
  {
   "cell_type": "markdown",
   "id": "c6eedba4-0432-4354-94bf-34cb2da95b8e",
   "metadata": {},
   "source": [
    "## Author\n",
    "Srijeeta Bhattacharjee"
   ]
  },
  {
   "cell_type": "code",
   "execution_count": null,
   "id": "56bc29d4-0f76-46fd-8d2d-096d469fe97f",
   "metadata": {},
   "outputs": [],
   "source": []
  }
 ],
 "metadata": {
  "kernelspec": {
   "display_name": "Python 3 (ipykernel)",
   "language": "python",
   "name": "python3"
  },
  "language_info": {
   "codemirror_mode": {
    "name": "ipython",
    "version": 3
   },
   "file_extension": ".py",
   "mimetype": "text/x-python",
   "name": "python",
   "nbconvert_exporter": "python",
   "pygments_lexer": "ipython3",
   "version": "3.12.4"
  }
 },
 "nbformat": 4,
 "nbformat_minor": 5
}
